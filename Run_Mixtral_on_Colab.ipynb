{
  "nbformat": 4,
  "nbformat_minor": 0,
  "metadata": {
    "colab": {
      "provenance": [],
      "gpuType": "T4",
      "authorship_tag": "ABX9TyPK/Q6zTvO3GmSsSub1n/6T",
      "include_colab_link": true
    },
    "kernelspec": {
      "name": "python3",
      "display_name": "Python 3"
    },
    "language_info": {
      "name": "python"
    },
    "accelerator": "GPU"
  },
  "cells": [
    {
      "cell_type": "markdown",
      "metadata": {
        "id": "view-in-github",
        "colab_type": "text"
      },
      "source": [
        "<a href=\"https://colab.research.google.com/github/abalvet/do-chatbots-dream-of-linguistics/blob/main/Run_Mixtral_on_Colab.ipynb\" target=\"_parent\"><img src=\"https://colab.research.google.com/assets/colab-badge.svg\" alt=\"Open In Colab\"/></a>"
      ]
    },
    {
      "cell_type": "markdown",
      "source": [
        "# Goal: run LLM in a colab notebook\n",
        "If, like me, you can't afford GPU hardware, you might be interested to learn that running optimized versions of LLMs is possible from a colab notebook. Although you would need to turn to other alternatives for running LLMs locally, this is a good way to test LLMs.\n",
        "\n",
        "This colab notebook is based on https://www.kdnuggets.com/running-mixtral-8x7b-on-google-colab-for-free\n",
        "\n",
        "It allows to run Mixtral 7B LLM from inside a notebook. Be sure to **turn on GPU execution first**!\n"
      ],
      "metadata": {
        "id": "YCXiMDcOJWkg"
      }
    },
    {
      "cell_type": "code",
      "execution_count": 3,
      "metadata": {
        "colab": {
          "base_uri": "https://localhost:8080/"
        },
        "id": "1-v-Ep8x4Nq9",
        "outputId": "0d5c717b-34e7-42ed-fc2f-3e83681d6bef"
      },
      "outputs": [
        {
          "output_type": "stream",
          "name": "stdout",
          "text": [
            "Cloning into 'llama.cpp'...\n",
            "remote: Enumerating objects: 583, done.\u001b[K\n",
            "remote: Counting objects: 100% (583/583), done.\u001b[K\n",
            "remote: Compressing objects: 100% (524/524), done.\u001b[K\n",
            "remote: Total 583 (delta 65), reused 321 (delta 30), pack-reused 0\u001b[K\n",
            "Receiving objects: 100% (583/583), 7.29 MiB | 13.41 MiB/s, done.\n",
            "Resolving deltas: 100% (65/65), done.\n"
          ]
        }
      ],
      "source": [
        "!git clone --depth 1 https://github.com/ggerganov/llama.cpp.git"
      ]
    },
    {
      "cell_type": "code",
      "source": [
        "%cd llama.cpp\n",
        "\n",
        "!make LLAMA_CUBLAS=1"
      ],
      "metadata": {
        "id": "o3Ew5PZ04V8n"
      },
      "execution_count": null,
      "outputs": []
    },
    {
      "cell_type": "code",
      "source": [
        "!wget https://huggingface.co/TheBloke/Mixtral-8x7B-Instruct-v0.1-GGUF/resolve/main/mixtral-8x7b-instruct-v0.1.Q2_K.gguf\n"
      ],
      "metadata": {
        "colab": {
          "base_uri": "https://localhost:8080/"
        },
        "id": "UIe_e3YP4Wco",
        "outputId": "27d2e0e4-0cbb-444a-c2f1-35acf7c694a5"
      },
      "execution_count": 5,
      "outputs": [
        {
          "output_type": "stream",
          "name": "stdout",
          "text": [
            "--2024-03-06 09:00:02--  https://huggingface.co/TheBloke/Mixtral-8x7B-Instruct-v0.1-GGUF/resolve/main/mixtral-8x7b-instruct-v0.1.Q2_K.gguf\n",
            "Resolving huggingface.co (huggingface.co)... 65.8.178.118, 65.8.178.12, 65.8.178.93, ...\n",
            "Connecting to huggingface.co (huggingface.co)|65.8.178.118|:443... connected.\n",
            "HTTP request sent, awaiting response... 302 Found\n",
            "Location: https://cdn-lfs-us-1.huggingface.co/repos/ac/ba/acba0635d39a127379c2c6ae1cefacc586bf413e8b044c5ca82daade27d7d503/d54b4f4ec06dbae558d25b2d1542417cdf9547907342db85eecd05b6e96e88f8?response-content-disposition=attachment%3B+filename*%3DUTF-8%27%27mixtral-8x7b-instruct-v0.1.Q2_K.gguf%3B+filename%3D%22mixtral-8x7b-instruct-v0.1.Q2_K.gguf%22%3B&Expires=1709974802&Policy=eyJTdGF0ZW1lbnQiOlt7IkNvbmRpdGlvbiI6eyJEYXRlTGVzc1RoYW4iOnsiQVdTOkVwb2NoVGltZSI6MTcwOTk3NDgwMn19LCJSZXNvdXJjZSI6Imh0dHBzOi8vY2RuLWxmcy11cy0xLmh1Z2dpbmdmYWNlLmNvL3JlcG9zL2FjL2JhL2FjYmEwNjM1ZDM5YTEyNzM3OWMyYzZhZTFjZWZhY2M1ODZiZjQxM2U4YjA0NGM1Y2E4MmRhYWRlMjdkN2Q1MDMvZDU0YjRmNGVjMDZkYmFlNTU4ZDI1YjJkMTU0MjQxN2NkZjk1NDc5MDczNDJkYjg1ZWVjZDA1YjZlOTZlODhmOD9yZXNwb25zZS1jb250ZW50LWRpc3Bvc2l0aW9uPSoifV19&Signature=RaqgsX0MWq5fCyk1ZXfuV4FwHrLfOhOvlD1P6Gi7ZjXKtJXXA7RQs3ohSQHCEYyT2RjtqNGnZs1BI2W4Xt6jmA8Pz1ZHkMbH4DEwCTNc0F9ih7agPPNxk82cqVt9l7CroZlRu7SU3-j%7E3tYn8BqhtwYDypoZXPDIIJ0oonQwi2Bsf12rfmsjDCRtyV3texIpSp3hAunq1bRGhRxruYbwB6NXrevTsDBlKPLK%7EJrOysEJzfdVwaqkSMfF3dkGLGmd9x4H21VJSB8GJuTo905XAJ4jT89U8mn3%7E5%7ERctkmTjPxNb3eYA3KY50M1pq9pf3LviEsja6ktAUegRbsitAeXw__&Key-Pair-Id=KCD77M1F0VK2B [following]\n",
            "--2024-03-06 09:00:02--  https://cdn-lfs-us-1.huggingface.co/repos/ac/ba/acba0635d39a127379c2c6ae1cefacc586bf413e8b044c5ca82daade27d7d503/d54b4f4ec06dbae558d25b2d1542417cdf9547907342db85eecd05b6e96e88f8?response-content-disposition=attachment%3B+filename*%3DUTF-8%27%27mixtral-8x7b-instruct-v0.1.Q2_K.gguf%3B+filename%3D%22mixtral-8x7b-instruct-v0.1.Q2_K.gguf%22%3B&Expires=1709974802&Policy=eyJTdGF0ZW1lbnQiOlt7IkNvbmRpdGlvbiI6eyJEYXRlTGVzc1RoYW4iOnsiQVdTOkVwb2NoVGltZSI6MTcwOTk3NDgwMn19LCJSZXNvdXJjZSI6Imh0dHBzOi8vY2RuLWxmcy11cy0xLmh1Z2dpbmdmYWNlLmNvL3JlcG9zL2FjL2JhL2FjYmEwNjM1ZDM5YTEyNzM3OWMyYzZhZTFjZWZhY2M1ODZiZjQxM2U4YjA0NGM1Y2E4MmRhYWRlMjdkN2Q1MDMvZDU0YjRmNGVjMDZkYmFlNTU4ZDI1YjJkMTU0MjQxN2NkZjk1NDc5MDczNDJkYjg1ZWVjZDA1YjZlOTZlODhmOD9yZXNwb25zZS1jb250ZW50LWRpc3Bvc2l0aW9uPSoifV19&Signature=RaqgsX0MWq5fCyk1ZXfuV4FwHrLfOhOvlD1P6Gi7ZjXKtJXXA7RQs3ohSQHCEYyT2RjtqNGnZs1BI2W4Xt6jmA8Pz1ZHkMbH4DEwCTNc0F9ih7agPPNxk82cqVt9l7CroZlRu7SU3-j%7E3tYn8BqhtwYDypoZXPDIIJ0oonQwi2Bsf12rfmsjDCRtyV3texIpSp3hAunq1bRGhRxruYbwB6NXrevTsDBlKPLK%7EJrOysEJzfdVwaqkSMfF3dkGLGmd9x4H21VJSB8GJuTo905XAJ4jT89U8mn3%7E5%7ERctkmTjPxNb3eYA3KY50M1pq9pf3LviEsja6ktAUegRbsitAeXw__&Key-Pair-Id=KCD77M1F0VK2B\n",
            "Resolving cdn-lfs-us-1.huggingface.co (cdn-lfs-us-1.huggingface.co)... 108.157.162.82, 108.157.162.85, 108.157.162.114, ...\n",
            "Connecting to cdn-lfs-us-1.huggingface.co (cdn-lfs-us-1.huggingface.co)|108.157.162.82|:443... connected.\n",
            "HTTP request sent, awaiting response... 200 OK\n",
            "Length: 15644035008 (15G) [binary/octet-stream]\n",
            "Saving to: ‘mixtral-8x7b-instruct-v0.1.Q2_K.gguf’\n",
            "\n",
            "mixtral-8x7b-instru 100%[===================>]  14.57G   144MB/s    in 2m 17s  \n",
            "\n",
            "2024-03-06 09:02:19 (109 MB/s) - ‘mixtral-8x7b-instruct-v0.1.Q2_K.gguf’ saved [15644035008/15644035008]\n",
            "\n"
          ]
        }
      ]
    },
    {
      "cell_type": "code",
      "source": [
        "from google.colab.output import eval_js\n",
        "print(eval_js(\"google.colab.kernel.proxyPort(6589)\"))"
      ],
      "metadata": {
        "colab": {
          "base_uri": "https://localhost:8080/",
          "height": 34
        },
        "id": "Ev0uBiNq4Z0O",
        "outputId": "4a6b53cf-f979-4ef6-a5c4-3cd1ee7591b7"
      },
      "execution_count": 6,
      "outputs": [
        {
          "output_type": "stream",
          "name": "stdout",
          "text": [
            "https://s554zqgiuqb-496ff2e9c6d22116-6589-colab.googleusercontent.com/\n"
          ]
        }
      ]
    },
    {
      "cell_type": "code",
      "source": [
        "%cd /content/llama.cpp\n",
        "\n",
        "!./server -m mixtral-8x7b-instruct-v0.1.Q2_K.gguf -ngl 27 -c 2048 --port 6589"
      ],
      "metadata": {
        "colab": {
          "base_uri": "https://localhost:8080/"
        },
        "id": "EB6Khm424ik2",
        "outputId": "80c77caf-0786-417a-8d06-7358c8a65112"
      },
      "execution_count": 7,
      "outputs": [
        {
          "output_type": "stream",
          "name": "stdout",
          "text": [
            "/content/llama.cpp\n",
            "ggml_init_cublas: GGML_CUDA_FORCE_MMQ:   no\n",
            "ggml_init_cublas: CUDA_USE_TENSOR_CORES: yes\n",
            "ggml_init_cublas: found 1 CUDA devices:\n",
            "  Device 0: Tesla T4, compute capability 7.5, VMM: yes\n",
            "{\"build\":1,\"commit\":\"e25fb4b\",\"function\":\"main\",\"level\":\"INFO\",\"line\":2795,\"msg\":\"build info\",\"tid\":\"135056981770240\",\"timestamp\":1709715774}\n",
            "{\"function\":\"main\",\"level\":\"INFO\",\"line\":2798,\"msg\":\"system info\",\"n_threads\":2,\"n_threads_batch\":-1,\"system_info\":\"AVX = 1 | AVX_VNNI = 0 | AVX2 = 1 | AVX512 = 0 | AVX512_VBMI = 0 | AVX512_VNNI = 0 | FMA = 1 | NEON = 0 | ARM_FMA = 0 | F16C = 1 | FP16_VA = 0 | WASM_SIMD = 0 | BLAS = 1 | SSE3 = 1 | SSSE3 = 1 | VSX = 0 | MATMUL_INT8 = 0 | \",\"tid\":\"135056981770240\",\"timestamp\":1709715774,\"total_threads\":2}\n",
            "llama_model_loader: loaded meta data with 26 key-value pairs and 995 tensors from mixtral-8x7b-instruct-v0.1.Q2_K.gguf (version GGUF V3 (latest))\n",
            "llama_model_loader: Dumping metadata keys/values. Note: KV overrides do not apply in this output.\n",
            "llama_model_loader: - kv   0:                       general.architecture str              = llama\n",
            "llama_model_loader: - kv   1:                               general.name str              = mistralai_mixtral-8x7b-instruct-v0.1\n",
            "llama_model_loader: - kv   2:                       llama.context_length u32              = 32768\n",
            "llama_model_loader: - kv   3:                     llama.embedding_length u32              = 4096\n",
            "llama_model_loader: - kv   4:                          llama.block_count u32              = 32\n",
            "llama_model_loader: - kv   5:                  llama.feed_forward_length u32              = 14336\n",
            "llama_model_loader: - kv   6:                 llama.rope.dimension_count u32              = 128\n",
            "llama_model_loader: - kv   7:                 llama.attention.head_count u32              = 32\n",
            "llama_model_loader: - kv   8:              llama.attention.head_count_kv u32              = 8\n",
            "llama_model_loader: - kv   9:                         llama.expert_count u32              = 8\n",
            "llama_model_loader: - kv  10:                    llama.expert_used_count u32              = 2\n",
            "llama_model_loader: - kv  11:     llama.attention.layer_norm_rms_epsilon f32              = 0.000010\n",
            "llama_model_loader: - kv  12:                       llama.rope.freq_base f32              = 1000000.000000\n",
            "llama_model_loader: - kv  13:                          general.file_type u32              = 10\n",
            "llama_model_loader: - kv  14:                       tokenizer.ggml.model str              = llama\n",
            "llama_model_loader: - kv  15:                      tokenizer.ggml.tokens arr[str,32000]   = [\"<unk>\", \"<s>\", \"</s>\", \"<0x00>\", \"<...\n",
            "llama_model_loader: - kv  16:                      tokenizer.ggml.scores arr[f32,32000]   = [0.000000, 0.000000, 0.000000, 0.0000...\n",
            "llama_model_loader: - kv  17:                  tokenizer.ggml.token_type arr[i32,32000]   = [2, 3, 3, 6, 6, 6, 6, 6, 6, 6, 6, 6, ...\n",
            "llama_model_loader: - kv  18:                tokenizer.ggml.bos_token_id u32              = 1\n",
            "llama_model_loader: - kv  19:                tokenizer.ggml.eos_token_id u32              = 2\n",
            "llama_model_loader: - kv  20:            tokenizer.ggml.unknown_token_id u32              = 0\n",
            "llama_model_loader: - kv  21:            tokenizer.ggml.padding_token_id u32              = 0\n",
            "llama_model_loader: - kv  22:               tokenizer.ggml.add_bos_token bool             = true\n",
            "llama_model_loader: - kv  23:               tokenizer.ggml.add_eos_token bool             = false\n",
            "llama_model_loader: - kv  24:                    tokenizer.chat_template str              = {{ bos_token }}{% for message in mess...\n",
            "llama_model_loader: - kv  25:               general.quantization_version u32              = 2\n",
            "llama_model_loader: - type  f32:   65 tensors\n",
            "llama_model_loader: - type  f16:   32 tensors\n",
            "llama_model_loader: - type q8_0:   64 tensors\n",
            "llama_model_loader: - type q2_K:  801 tensors\n",
            "llama_model_loader: - type q3_K:   32 tensors\n",
            "llama_model_loader: - type q6_K:    1 tensors\n",
            "llm_load_vocab: special tokens definition check successful ( 259/32000 ).\n",
            "llm_load_print_meta: format           = GGUF V3 (latest)\n",
            "llm_load_print_meta: arch             = llama\n",
            "llm_load_print_meta: vocab type       = SPM\n",
            "llm_load_print_meta: n_vocab          = 32000\n",
            "llm_load_print_meta: n_merges         = 0\n",
            "llm_load_print_meta: n_ctx_train      = 32768\n",
            "llm_load_print_meta: n_embd           = 4096\n",
            "llm_load_print_meta: n_head           = 32\n",
            "llm_load_print_meta: n_head_kv        = 8\n",
            "llm_load_print_meta: n_layer          = 32\n",
            "llm_load_print_meta: n_rot            = 128\n",
            "llm_load_print_meta: n_embd_head_k    = 128\n",
            "llm_load_print_meta: n_embd_head_v    = 128\n",
            "llm_load_print_meta: n_gqa            = 4\n",
            "llm_load_print_meta: n_embd_k_gqa     = 1024\n",
            "llm_load_print_meta: n_embd_v_gqa     = 1024\n",
            "llm_load_print_meta: f_norm_eps       = 0.0e+00\n",
            "llm_load_print_meta: f_norm_rms_eps   = 1.0e-05\n",
            "llm_load_print_meta: f_clamp_kqv      = 0.0e+00\n",
            "llm_load_print_meta: f_max_alibi_bias = 0.0e+00\n",
            "llm_load_print_meta: n_ff             = 14336\n",
            "llm_load_print_meta: n_expert         = 8\n",
            "llm_load_print_meta: n_expert_used    = 2\n",
            "llm_load_print_meta: pooling type     = 0\n",
            "llm_load_print_meta: rope type        = 0\n",
            "llm_load_print_meta: rope scaling     = linear\n",
            "llm_load_print_meta: freq_base_train  = 1000000.0\n",
            "llm_load_print_meta: freq_scale_train = 1\n",
            "llm_load_print_meta: n_yarn_orig_ctx  = 32768\n",
            "llm_load_print_meta: rope_finetuned   = unknown\n",
            "llm_load_print_meta: model type       = 7B\n",
            "llm_load_print_meta: model ftype      = Q2_K - Medium\n",
            "llm_load_print_meta: model params     = 46.70 B\n",
            "llm_load_print_meta: model size       = 14.57 GiB (2.68 BPW) \n",
            "llm_load_print_meta: general.name     = mistralai_mixtral-8x7b-instruct-v0.1\n",
            "llm_load_print_meta: BOS token        = 1 '<s>'\n",
            "llm_load_print_meta: EOS token        = 2 '</s>'\n",
            "llm_load_print_meta: UNK token        = 0 '<unk>'\n",
            "llm_load_print_meta: PAD token        = 0 '<unk>'\n",
            "llm_load_print_meta: LF token         = 13 '<0x0A>'\n",
            "llm_load_tensors: ggml ctx size =    0.76 MiB\n",
            "llm_load_tensors: offloading 27 repeating layers to GPU\n",
            "llm_load_tensors: offloaded 27/33 layers to GPU\n",
            "llm_load_tensors:        CPU buffer size = 14918.57 MiB\n",
            "llm_load_tensors:      CUDA0 buffer size = 12466.41 MiB\n",
            "....................................................................................................\n",
            "llama_new_context_with_model: n_ctx      = 2048\n",
            "llama_new_context_with_model: freq_base  = 1000000.0\n",
            "llama_new_context_with_model: freq_scale = 1\n",
            "llama_kv_cache_init:  CUDA_Host KV buffer size =    40.00 MiB\n",
            "llama_kv_cache_init:      CUDA0 KV buffer size =   216.00 MiB\n",
            "llama_new_context_with_model: KV self size  =  256.00 MiB, K (f16):  128.00 MiB, V (f16):  128.00 MiB\n",
            "llama_new_context_with_model:  CUDA_Host input buffer size   =    13.02 MiB\n",
            "llama_new_context_with_model:      CUDA0 compute buffer size =   192.01 MiB\n",
            "llama_new_context_with_model:  CUDA_Host compute buffer size =   188.03 MiB\n",
            "llama_new_context_with_model: graph splits (measure): 3\n",
            "{\"function\":\"initialize\",\"level\":\"INFO\",\"line\":426,\"msg\":\"initializing slots\",\"n_slots\":1,\"tid\":\"135056981770240\",\"timestamp\":1709715889}\n",
            "{\"function\":\"initialize\",\"level\":\"INFO\",\"line\":435,\"msg\":\"new slot\",\"n_ctx_slot\":2048,\"slot_id\":0,\"tid\":\"135056981770240\",\"timestamp\":1709715889}\n",
            "{\"function\":\"main\",\"level\":\"INFO\",\"line\":3040,\"msg\":\"model loaded\",\"tid\":\"135056981770240\",\"timestamp\":1709715889}\n",
            "{\"function\":\"main\",\"hostname\":\"127.0.0.1\",\"level\":\"INFO\",\"line\":3509,\"msg\":\"HTTP server listening\",\"n_threads_http\":\"3\",\"port\":\"6589\",\"tid\":\"135056981770240\",\"timestamp\":1709715889}\n",
            "{\"function\":\"update_slots\",\"level\":\"INFO\",\"line\":1574,\"msg\":\"all slots are idle and system prompt is empty, clear the KV cache\",\"tid\":\"135056981770240\",\"timestamp\":1709715889}\n",
            "{\"function\":\"log_server_request\",\"level\":\"INFO\",\"line\":2730,\"method\":\"GET\",\"msg\":\"request\",\"params\":{},\"path\":\"/\",\"remote_addr\":\"127.0.0.1\",\"remote_port\":37328,\"status\":200,\"tid\":\"135025963237376\",\"timestamp\":1709715889}\n",
            "{\"function\":\"log_server_request\",\"level\":\"INFO\",\"line\":2730,\"method\":\"GET\",\"msg\":\"request\",\"params\":{},\"path\":\"/index.js\",\"remote_addr\":\"127.0.0.1\",\"remote_port\":39480,\"status\":200,\"tid\":\"135025954844672\",\"timestamp\":1709715889}\n",
            "{\"function\":\"log_server_request\",\"level\":\"INFO\",\"line\":2730,\"method\":\"GET\",\"msg\":\"request\",\"params\":{},\"path\":\"/completion.js\",\"remote_addr\":\"127.0.0.1\",\"remote_port\":39496,\"status\":200,\"tid\":\"135025946451968\",\"timestamp\":1709715889}\n",
            "{\"function\":\"log_server_request\",\"level\":\"INFO\",\"line\":2730,\"method\":\"GET\",\"msg\":\"request\",\"params\":{},\"path\":\"/json-schema-to-grammar.mjs\",\"remote_addr\":\"127.0.0.1\",\"remote_port\":39506,\"status\":200,\"tid\":\"135025963237376\",\"timestamp\":1709715889}\n",
            "{\"function\":\"log_server_request\",\"level\":\"INFO\",\"line\":2730,\"method\":\"GET\",\"msg\":\"request\",\"params\":{},\"path\":\"/favicon.ico\",\"remote_addr\":\"127.0.0.1\",\"remote_port\":39516,\"status\":404,\"tid\":\"135025954844672\",\"timestamp\":1709715890}\n",
            "{\"function\":\"launch_slot_with_data\",\"level\":\"INFO\",\"line\":816,\"msg\":\"slot is processing task\",\"slot_id\":0,\"task_id\":0,\"tid\":\"135056981770240\",\"timestamp\":1709716085}\n",
            "{\"function\":\"update_slots\",\"ga_i\":0,\"level\":\"INFO\",\"line\":1805,\"msg\":\"slot progression\",\"n_past\":0,\"n_past_se\":0,\"n_prompt_tokens_processed\":134,\"slot_id\":0,\"task_id\":0,\"tid\":\"135056981770240\",\"timestamp\":1709716085}\n",
            "{\"function\":\"update_slots\",\"level\":\"INFO\",\"line\":1832,\"msg\":\"kv cache rm [p0, end)\",\"p0\":0,\"slot_id\":0,\"task_id\":0,\"tid\":\"135056981770240\",\"timestamp\":1709716085}\n",
            "{\"function\":\"print_timings\",\"level\":\"INFO\",\"line\":253,\"msg\":\"prompt eval time     =    9097.58 ms /   134 tokens (   67.89 ms per token,    14.73 tokens per second)\",\"n_prompt_tokens_processed\":134,\"n_tokens_second\":14.729194957163326,\"slot_id\":0,\"t_prompt_processing\":9097.578,\"t_token\":67.89237313432835,\"task_id\":0,\"tid\":\"135056981770240\",\"timestamp\":1709716170}\n",
            "{\"function\":\"print_timings\",\"level\":\"INFO\",\"line\":267,\"msg\":\"generation eval time =   75356.23 ms /   337 runs   (  223.61 ms per token,     4.47 tokens per second)\",\"n_decoded\":337,\"n_tokens_second\":4.472092325855066,\"slot_id\":0,\"t_token\":223.60897922848665,\"t_token_generation\":75356.226,\"task_id\":0,\"tid\":\"135056981770240\",\"timestamp\":1709716170}\n",
            "{\"function\":\"print_timings\",\"level\":\"INFO\",\"line\":277,\"msg\":\"          total time =   84453.80 ms\",\"slot_id\":0,\"t_prompt_processing\":9097.578,\"t_token_generation\":75356.226,\"t_total\":84453.80399999999,\"task_id\":0,\"tid\":\"135056981770240\",\"timestamp\":1709716170}\n",
            "{\"function\":\"update_slots\",\"level\":\"INFO\",\"line\":1636,\"msg\":\"slot released\",\"n_cache_tokens\":471,\"n_ctx\":2048,\"n_past\":470,\"n_system_tokens\":0,\"slot_id\":0,\"task_id\":0,\"tid\":\"135056981770240\",\"timestamp\":1709716170,\"truncated\":false}\n",
            "{\"function\":\"log_server_request\",\"level\":\"INFO\",\"line\":2730,\"method\":\"POST\",\"msg\":\"request\",\"params\":{},\"path\":\"/completion\",\"remote_addr\":\"127.0.0.1\",\"remote_port\":33652,\"status\":200,\"tid\":\"135025946451968\",\"timestamp\":1709716170}\n",
            "{\"function\":\"launch_slot_with_data\",\"level\":\"INFO\",\"line\":816,\"msg\":\"slot is processing task\",\"slot_id\":0,\"task_id\":340,\"tid\":\"135056981770240\",\"timestamp\":1709716382}\n",
            "{\"function\":\"update_slots\",\"ga_i\":0,\"level\":\"INFO\",\"line\":1805,\"msg\":\"slot progression\",\"n_past\":470,\"n_past_se\":0,\"n_prompt_tokens_processed\":68,\"slot_id\":0,\"task_id\":340,\"tid\":\"135056981770240\",\"timestamp\":1709716382}\n",
            "{\"function\":\"update_slots\",\"level\":\"INFO\",\"line\":1832,\"msg\":\"kv cache rm [p0, end)\",\"p0\":470,\"slot_id\":0,\"task_id\":340,\"tid\":\"135056981770240\",\"timestamp\":1709716382}\n",
            "{\"function\":\"print_timings\",\"level\":\"INFO\",\"line\":253,\"msg\":\"prompt eval time     =    2362.35 ms /    68 tokens (   34.74 ms per token,    28.78 tokens per second)\",\"n_prompt_tokens_processed\":68,\"n_tokens_second\":28.78494513504796,\"slot_id\":0,\"t_prompt_processing\":2362.346,\"t_token\":34.740382352941175,\"task_id\":340,\"tid\":\"135056981770240\",\"timestamp\":1709716437}\n",
            "{\"function\":\"print_timings\",\"level\":\"INFO\",\"line\":267,\"msg\":\"generation eval time =   52067.76 ms /   246 runs   (  211.66 ms per token,     4.72 tokens per second)\",\"n_decoded\":246,\"n_tokens_second\":4.724612969212406,\"slot_id\":0,\"t_token\":211.6575487804878,\"t_token_generation\":52067.757,\"task_id\":340,\"tid\":\"135056981770240\",\"timestamp\":1709716437}\n",
            "{\"function\":\"print_timings\",\"level\":\"INFO\",\"line\":277,\"msg\":\"          total time =   54430.10 ms\",\"slot_id\":0,\"t_prompt_processing\":2362.346,\"t_token_generation\":52067.757,\"t_total\":54430.102999999996,\"task_id\":340,\"tid\":\"135056981770240\",\"timestamp\":1709716437}\n",
            "{\"function\":\"update_slots\",\"level\":\"INFO\",\"line\":1636,\"msg\":\"slot released\",\"n_cache_tokens\":784,\"n_ctx\":2048,\"n_past\":783,\"n_system_tokens\":0,\"slot_id\":0,\"task_id\":340,\"tid\":\"135056981770240\",\"timestamp\":1709716437,\"truncated\":false}\n",
            "{\"function\":\"log_server_request\",\"level\":\"INFO\",\"line\":2730,\"method\":\"POST\",\"msg\":\"request\",\"params\":{},\"path\":\"/completion\",\"remote_addr\":\"127.0.0.1\",\"remote_port\":57362,\"status\":200,\"tid\":\"135025963237376\",\"timestamp\":1709716437}\n",
            "{\"function\":\"launch_slot_with_data\",\"level\":\"INFO\",\"line\":816,\"msg\":\"slot is processing task\",\"slot_id\":0,\"task_id\":589,\"tid\":\"135056981770240\",\"timestamp\":1709716520}\n",
            "{\"function\":\"update_slots\",\"ga_i\":0,\"level\":\"INFO\",\"line\":1805,\"msg\":\"slot progression\",\"n_past\":783,\"n_past_se\":0,\"n_prompt_tokens_processed\":28,\"slot_id\":0,\"task_id\":589,\"tid\":\"135056981770240\",\"timestamp\":1709716520}\n",
            "{\"function\":\"update_slots\",\"level\":\"INFO\",\"line\":1832,\"msg\":\"kv cache rm [p0, end)\",\"p0\":783,\"slot_id\":0,\"task_id\":589,\"tid\":\"135056981770240\",\"timestamp\":1709716520}\n",
            "{\"function\":\"print_timings\",\"level\":\"INFO\",\"line\":253,\"msg\":\"prompt eval time     =    4014.86 ms /    28 tokens (  143.39 ms per token,     6.97 tokens per second)\",\"n_prompt_tokens_processed\":28,\"n_tokens_second\":6.974094725143454,\"slot_id\":0,\"t_prompt_processing\":4014.858,\"t_token\":143.3877857142857,\"task_id\":589,\"tid\":\"135056981770240\",\"timestamp\":1709716613}\n",
            "{\"function\":\"print_timings\",\"level\":\"INFO\",\"line\":267,\"msg\":\"generation eval time =   89395.80 ms /   400 runs   (  223.49 ms per token,     4.47 tokens per second)\",\"n_decoded\":400,\"n_tokens_second\":4.474483341476147,\"slot_id\":0,\"t_token\":223.48949000000002,\"t_token_generation\":89395.796,\"task_id\":589,\"tid\":\"135056981770240\",\"timestamp\":1709716613}\n",
            "{\"function\":\"print_timings\",\"level\":\"INFO\",\"line\":277,\"msg\":\"          total time =   93410.65 ms\",\"slot_id\":0,\"t_prompt_processing\":4014.858,\"t_token_generation\":89395.796,\"t_total\":93410.65400000001,\"task_id\":589,\"tid\":\"135056981770240\",\"timestamp\":1709716613}\n",
            "{\"function\":\"log_server_request\",\"level\":\"INFO\",\"line\":2730,\"method\":\"POST\",\"msg\":\"request\",\"params\":{},\"path\":\"/completion\",\"remote_addr\":\"127.0.0.1\",\"remote_port\":46138,\"status\":200,\"tid\":\"135025954844672\",\"timestamp\":1709716613}\n",
            "{\"function\":\"update_slots\",\"level\":\"INFO\",\"line\":1636,\"msg\":\"slot released\",\"n_cache_tokens\":1211,\"n_ctx\":2048,\"n_past\":1210,\"n_system_tokens\":0,\"slot_id\":0,\"task_id\":589,\"tid\":\"135056981770240\",\"timestamp\":1709716613,\"truncated\":false}\n",
            "{\"function\":\"launch_slot_with_data\",\"level\":\"INFO\",\"line\":816,\"msg\":\"slot is processing task\",\"slot_id\":0,\"task_id\":992,\"tid\":\"135056981770240\",\"timestamp\":1709716904}\n",
            "{\"function\":\"update_slots\",\"ga_i\":0,\"level\":\"INFO\",\"line\":1805,\"msg\":\"slot progression\",\"n_past\":1210,\"n_past_se\":0,\"n_prompt_tokens_processed\":119,\"slot_id\":0,\"task_id\":992,\"tid\":\"135056981770240\",\"timestamp\":1709716904}\n",
            "{\"function\":\"update_slots\",\"level\":\"INFO\",\"line\":1832,\"msg\":\"kv cache rm [p0, end)\",\"p0\":1210,\"slot_id\":0,\"task_id\":992,\"tid\":\"135056981770240\",\"timestamp\":1709716904}\n",
            "{\"function\":\"print_timings\",\"level\":\"INFO\",\"line\":253,\"msg\":\"prompt eval time     =    3320.95 ms /   119 tokens (   27.91 ms per token,    35.83 tokens per second)\",\"n_prompt_tokens_processed\":119,\"n_tokens_second\":35.83313083097633,\"slot_id\":0,\"t_prompt_processing\":3320.949,\"t_token\":27.907134453781513,\"task_id\":992,\"tid\":\"135056981770240\",\"timestamp\":1709716999}\n",
            "{\"function\":\"print_timings\",\"level\":\"INFO\",\"line\":267,\"msg\":\"generation eval time =   91913.97 ms /   394 runs   (  233.28 ms per token,     4.29 tokens per second)\",\"n_decoded\":394,\"n_tokens_second\":4.286617195260059,\"slot_id\":0,\"t_token\":233.28418527918782,\"t_token_generation\":91913.969,\"task_id\":992,\"tid\":\"135056981770240\",\"timestamp\":1709716999}\n",
            "{\"function\":\"print_timings\",\"level\":\"INFO\",\"line\":277,\"msg\":\"          total time =   95234.92 ms\",\"slot_id\":0,\"t_prompt_processing\":3320.949,\"t_token_generation\":91913.969,\"t_total\":95234.91799999999,\"task_id\":992,\"tid\":\"135056981770240\",\"timestamp\":1709716999}\n",
            "{\"function\":\"update_slots\",\"level\":\"INFO\",\"line\":1636,\"msg\":\"slot released\",\"n_cache_tokens\":1723,\"n_ctx\":2048,\"n_past\":1722,\"n_system_tokens\":0,\"slot_id\":0,\"task_id\":992,\"tid\":\"135056981770240\",\"timestamp\":1709716999,\"truncated\":false}\n",
            "{\"function\":\"log_server_request\",\"level\":\"INFO\",\"line\":2730,\"method\":\"POST\",\"msg\":\"request\",\"params\":{},\"path\":\"/completion\",\"remote_addr\":\"127.0.0.1\",\"remote_port\":58124,\"status\":200,\"tid\":\"135025946451968\",\"timestamp\":1709716999}\n",
            "{\"function\":\"launch_slot_with_data\",\"level\":\"INFO\",\"line\":816,\"msg\":\"slot is processing task\",\"slot_id\":0,\"task_id\":1389,\"tid\":\"135056981770240\",\"timestamp\":1709717739}\n",
            "{\"function\":\"update_slots\",\"ga_i\":0,\"level\":\"INFO\",\"line\":1805,\"msg\":\"slot progression\",\"n_past\":1721,\"n_past_se\":0,\"n_prompt_tokens_processed\":229,\"slot_id\":0,\"task_id\":1389,\"tid\":\"135056981770240\",\"timestamp\":1709717739}\n",
            "{\"function\":\"update_slots\",\"level\":\"INFO\",\"line\":1832,\"msg\":\"kv cache rm [p0, end)\",\"p0\":1721,\"slot_id\":0,\"task_id\":1389,\"tid\":\"135056981770240\",\"timestamp\":1709717739}\n",
            "{\"function\":\"update_slots\",\"level\":\"INFO\",\"line\":1597,\"msg\":\"slot context shift\",\"n_cache_tokens\":2048,\"n_ctx\":2048,\"n_discard\":1023,\"n_keep\":1,\"n_left\":2046,\"n_past\":2047,\"n_system_tokens\":0,\"slot_id\":0,\"task_id\":1389,\"tid\":\"135056981770240\",\"timestamp\":1709717766}\n",
            "{\"function\":\"print_timings\",\"level\":\"INFO\",\"line\":253,\"msg\":\"prompt eval time     =    6256.39 ms /   229 tokens (   27.32 ms per token,    36.60 tokens per second)\",\"n_prompt_tokens_processed\":229,\"n_tokens_second\":36.602600926477365,\"slot_id\":0,\"t_prompt_processing\":6256.386,\"t_token\":27.32046288209607,\"task_id\":1389,\"tid\":\"135056981770240\",\"timestamp\":1709717840}\n",
            "{\"function\":\"print_timings\",\"level\":\"INFO\",\"line\":267,\"msg\":\"generation eval time =   95088.08 ms /   400 runs   (  237.72 ms per token,     4.21 tokens per second)\",\"n_decoded\":400,\"n_tokens_second\":4.206625932225115,\"slot_id\":0,\"t_token\":237.72021,\"t_token_generation\":95088.084,\"task_id\":1389,\"tid\":\"135056981770240\",\"timestamp\":1709717840}\n",
            "{\"function\":\"print_timings\",\"level\":\"INFO\",\"line\":277,\"msg\":\"          total time =  101344.47 ms\",\"slot_id\":0,\"t_prompt_processing\":6256.386,\"t_token_generation\":95088.084,\"t_total\":101344.47,\"task_id\":1389,\"tid\":\"135056981770240\",\"timestamp\":1709717840}\n",
            "{\"function\":\"update_slots\",\"level\":\"INFO\",\"line\":1636,\"msg\":\"slot released\",\"n_cache_tokens\":1327,\"n_ctx\":2048,\"n_past\":1326,\"n_system_tokens\":0,\"slot_id\":0,\"task_id\":1389,\"tid\":\"135056981770240\",\"timestamp\":1709717840,\"truncated\":true}\n",
            "{\"function\":\"log_server_request\",\"level\":\"INFO\",\"line\":2730,\"method\":\"POST\",\"msg\":\"request\",\"params\":{},\"path\":\"/completion\",\"remote_addr\":\"127.0.0.1\",\"remote_port\":59098,\"status\":200,\"tid\":\"135025963237376\",\"timestamp\":1709717840}\n",
            "Received second interrupt, terminating immediately.\n"
          ]
        }
      ]
    }
  ]
}